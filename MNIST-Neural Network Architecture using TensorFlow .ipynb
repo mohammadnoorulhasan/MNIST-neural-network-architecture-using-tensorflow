{
 "cells": [
  {
   "cell_type": "code",
   "execution_count": 1,
   "metadata": {},
   "outputs": [],
   "source": [
    "# Author                 :  Mohammad Noor Ul hasan\n",
    "# Start Date             :  13/Feb/19\n",
    "\n",
    "# Dependencies(Modules ) :  Tensorflow -> to create neural networks\n",
    "#                           Sklearn -> for one hot encoding\n",
    "\n",
    "# Optional Dependency    :  matplotlib -> to view images in notebook\n",
    "#                           pylab -> to set figure size\n",
    "#                           warnings -> to ignore warning\n",
    "#                           tqdm -> to see progress bars\n",
    "\n",
    "# Last Edited            :  14/Feb/19"
   ]
  },
  {
   "cell_type": "code",
   "execution_count": 2,
   "metadata": {},
   "outputs": [],
   "source": [
    "# Importing required libraries\n",
    "import tensorflow as tf\n",
    "from sklearn.preprocessing import OneHotEncoder\n",
    "from matplotlib import pyplot as plt\n",
    "%matplotlib inline\n",
    "from pylab import rcParams\n",
    "import warnings\n",
    "from tqdm import tqdm_notebook\n",
    "warnings.filterwarnings(\"ignore\")"
   ]
  },
  {
   "cell_type": "code",
   "execution_count": 3,
   "metadata": {},
   "outputs": [],
   "source": [
    "def display(image_objects, title = \"title\"):\n",
    "    \"\"\"\n",
    "        Signature : display(image_objects, title = \\\"title\\\")\n",
    "        Display Image using Matplotlib\n",
    "        @parms image_object : A numpy array which stores image\n",
    "        @param title        : A string which contain title for the image\n",
    "                              Default : title\n",
    "    \"\"\"\n",
    "    nImages = len(image_objects)\n",
    "    rcParams['figure.figsize'] = nImages*2, 3 #Setting size of the figure\n",
    "    for i in range(nImages):\n",
    "        plt.subplot(1, nImages, i+1) \n",
    "        plt.imshow(image_objects[i], cmap = 'gray') # ploting image\n",
    "        plt.title(\"label \" + str(title[i])) # setting image label\n",
    "        # disable x and y ticks\n",
    "        plt.xticks([]) \n",
    "        plt.yticks([])\n",
    "    \n",
    "def batches(batch_size, features, labels):\n",
    "    \"\"\"\n",
    "        Signature : batches(batch_size, features, labels)\n",
    "        Create batches of features and labels\n",
    "        @param batch_size : A integer which define size of the batch\n",
    "        @param features   : List or numpy array of features\n",
    "        @param labels     : List or numpy array of labels\n",
    "        \n",
    "        return: Batches of (Features, Labels)\n",
    "    \"\"\"\n",
    "    assert len(features) == len(labels),\"Length of features != length of labels\"\n",
    "    outout_batches = []\n",
    "    \n",
    "    sample_size = len(features)\n",
    "    for start_i in range(0, sample_size, batch_size):\n",
    "        end_i = start_i + batch_size\n",
    "        batch = [features[start_i:end_i], labels[start_i:end_i]] # Dividing batches\n",
    "        outout_batches.append(batch) \n",
    "        \n",
    "    return outout_batches"
   ]
  },
  {
   "cell_type": "code",
   "execution_count": 4,
   "metadata": {},
   "outputs": [],
   "source": [
    "#Loading MNIST data set into the memory\n",
    "mnistDataset = tf.keras.datasets.mnist\n",
    "(featuresTrain, labelsTrain),(featuresTest, labelsTest) = mnistDataset.load_data()\n"
   ]
  },
  {
   "cell_type": "code",
   "execution_count": 5,
   "metadata": {},
   "outputs": [
    {
     "data": {
      "image/png": "[encoded data removed]",
      "text/plain": [
       "<Figure size 1440x216 with 10 Axes>"
      ]
     },
     "metadata": {},
     "output_type": "display_data"
    }
   ],
   "source": [
    "#Displaying images how the look like\n",
    "display(featuresTrain[0:10],labelsTrain[0:10])"
   ]
  },
  {
   "cell_type": "code",
   "execution_count": 6,
   "metadata": {},
   "outputs": [],
   "source": [
    "#Converting labels into onehotencoded format\n",
    "onehot_encoder = OneHotEncoder(sparse=False)\n",
    "labelsTrain = labelsTrain.reshape(len(labelsTrain), 1)\n",
    "labelsTest = labelsTest.reshape(len(labelsTest), 1)\n",
    "labelsTrain = onehot_encoder.fit_transform(labelsTrain)\n",
    "labelsTest = onehot_encoder.fit_transform(labelsTest)"
   ]
  },
  {
   "cell_type": "code",
   "execution_count": 7,
   "metadata": {},
   "outputs": [],
   "source": [
    "#Setting values\n",
    "nInputNodes = 784 # Defining number of nodes in the input layer \n",
    "nHiddenNodes = 256 # Defining number of nodes in the Hidden layer\n",
    "nOutputNodes = 10 # Defining number of nodes in the Output layer\n",
    "learningRate = 0.001 # Rate at which our networks learn\n",
    "epoches = 40 # Number of epoches that is number of itteration over the dataset\n",
    "batchSize =  128 # Size of one batch"
   ]
  },
  {
   "cell_type": "code",
   "execution_count": 8,
   "metadata": {},
   "outputs": [],
   "source": [
    "# Weight of the layers\n",
    "weights = {\n",
    "    \"inputToHidden\" : tf.Variable(tf.truncated_normal([nInputNodes, nHiddenNodes]), name = \"weightInputToHidden\"),\n",
    "    \"hiddenToOutput\" : tf.Variable(tf.truncated_normal([nHiddenNodes,nOutputNodes]), name = \"weightHiddenToOutput\")\n",
    "}\n",
    "#Bias of the layers\n",
    "bias = {\n",
    "    \"inputToHidden\" : tf.Variable(tf.zeros([nHiddenNodes]),name = \"biasInputToHidden\"),\n",
    "    \"hiddenToOutput\" : tf.Variable(tf.zeros([nOutputNodes]), name = \"biasHiddenToOutput\")\n",
    "}\n",
    "\n",
    "originalFeatures = tf.placeholder(tf.float32,[None, 28, 28], name = \"originalFeatures\") # Tensor for features\n",
    "labels = tf.placeholder(tf.float32, [None,nOutputNodes],name = \"labels\") # Tensor for labels\n",
    "reshapedFeatures = tf.reshape(originalFeatures, [-1, nInputNodes], name = \"reshapedFeatures\") # Tensor to reshaped feature from 2D to 1D\n",
    "\n",
    "# None and -1 is feed so that they can N number of images features "
   ]
  },
  {
   "cell_type": "code",
   "execution_count": 9,
   "metadata": {},
   "outputs": [],
   "source": [
    "# Calculation for input layer to hidden layer \n",
    "# hidden_layer = Relu( input_layer * input_to_hidden_weight + input_to_hidden_bias )\n",
    "hiddenLayerOutput = tf.add(tf.matmul(reshapedFeatures,weights[\"inputToHidden\"]),bias[\"inputToHidden\"])\n",
    "hiddenLayerOutput = tf.nn.relu(hiddenLayerOutput)\n",
    "\n",
    "# Calculation for hidden layer to output layer \n",
    "# output_layer = hidden_layer * hidden_to_output_weight + hidden_to_output_bias\n",
    "output = tf.add(tf.matmul(hiddenLayerOutput, weights[\"hiddenToOutput\"]),bias[\"hiddenToOutput\"])\n",
    "\n",
    "# From all the output node which has maximum output is the predicted label\n",
    "# node_index which contain higest value is the prediction\n",
    "correct_prediction = tf.equal(tf.argmax(output, 1), tf.argmax(labels, 1))\n",
    "\n",
    "# Cost function\n",
    "# We used cross entropy\n",
    "cost = tf.reduce_mean(tf.nn.softmax_cross_entropy_with_logits_v2(logits=output, labels=labels))\n",
    "\n",
    "# Optimizer of our network\n",
    "# We used Gradient Descent\n",
    "optimizer = tf.train.GradientDescentOptimizer(learning_rate=learningRate).minimize(cost)\n",
    "\n",
    "# To check accuracy of the network \n",
    "accuracy = tf.reduce_mean(tf.cast(correct_prediction, \"float\"))\n",
    "\n",
    "# To initialize all the variables\n",
    "init = tf.global_variables_initializer()"
   ]
  },
  {
   "cell_type": "markdown",
   "metadata": {},
   "source": [
    "## <center>  Layer wise Structure of Neural Networks <center>"
   ]
  },
  {
   "cell_type": "markdown",
   "metadata": {},
   "source": [
    "<img src = \"Images/Structure of the Neural network.png\" />"
   ]
  },
  {
   "cell_type": "code",
   "execution_count": 10,
   "metadata": {},
   "outputs": [
    {
     "data": {
      "application/vnd.jupyter.widget-view+json": {
       "model_id": "229bd20d21444d16a2b6661b9f23670b",
       "version_major": 2,
       "version_minor": 0
      },
      "text/plain": [
       "HBox(children=(IntProgress(value=0, description='Training Progress', max=40, style=ProgressStyle(description_w…"
      ]
     },
     "metadata": {},
     "output_type": "display_data"
    },
    {
     "name": "stdout",
     "output_type": "stream",
     "text": [
      "Epoch: 0001 cost= 275.880615234\n",
      "Epoch: 0002 cost= 139.885620117\n",
      "Epoch: 0003 cost= 103.744834900\n",
      "Epoch: 0004 cost= 75.553909302\n",
      "Epoch: 0005 cost= 61.147274017\n",
      "Epoch: 0006 cost= 50.747707367\n",
      "Epoch: 0007 cost= 44.669040680\n",
      "Epoch: 0008 cost= 33.425750732\n",
      "Epoch: 0009 cost= 33.107646942\n",
      "Epoch: 0010 cost= 24.761816025\n",
      "Epoch: 0011 cost= 27.251876831\n",
      "Epoch: 0012 cost= 23.601758957\n",
      "Epoch: 0013 cost= 19.275121689\n",
      "Epoch: 0014 cost= 16.939208984\n",
      "Epoch: 0015 cost= 17.460924149\n",
      "Epoch: 0016 cost= 14.559545517\n",
      "Epoch: 0017 cost= 14.180701256\n",
      "Epoch: 0018 cost= 13.236029625\n",
      "Epoch: 0019 cost= 10.641518593\n",
      "Epoch: 0020 cost= 9.954970360\n",
      "Epoch: 0021 cost= 9.009322166\n",
      "Epoch: 0022 cost= 7.939370155\n",
      "Epoch: 0023 cost= 8.228765488\n",
      "Epoch: 0024 cost= 7.973818779\n",
      "Epoch: 0025 cost= 5.781638622\n",
      "Epoch: 0026 cost= 6.521928787\n",
      "Epoch: 0027 cost= 6.455393314\n",
      "Epoch: 0028 cost= 6.691330433\n",
      "Epoch: 0029 cost= 6.025906086\n",
      "Epoch: 0030 cost= 6.213767529\n",
      "Epoch: 0031 cost= 4.593094826\n",
      "Epoch: 0032 cost= 4.492227077\n",
      "Epoch: 0033 cost= 4.505372524\n",
      "Epoch: 0034 cost= 3.985343695\n",
      "Epoch: 0035 cost= 7.029698849\n",
      "Epoch: 0036 cost= 2.677750826\n",
      "Epoch: 0037 cost= 3.360909462\n",
      "Epoch: 0038 cost= 2.958805323\n",
      "Epoch: 0039 cost= 2.717524052\n",
      "Epoch: 0040 cost= 2.282295465\n",
      "\n",
      "Optimization Finished!\n",
      "Accuracy on Training Data:  98.89833331108093 %\n",
      "Accuracy on Testing Data:  93.870002031 %\n"
     ]
    }
   ],
   "source": [
    "with tf.Session() as sess:\n",
    "    sess.run(init) # Initializing all the variables\n",
    "    totalBatches = batches(batchSize, featuresTrain, labelsTrain) # Dividing features and labels into batches\n",
    "    for epoch in tqdm_notebook(range(epoches), desc = \"Training Progress\"):\n",
    "        for batchFeatures, batchLabels in totalBatches:\n",
    "            # Training the network over batches\n",
    "            sess.run(optimizer,feed_dict = {originalFeatures : batchFeatures,labels : batchLabels})\n",
    "            \n",
    "        if (epoch % 1) == 0:\n",
    "            # Checking the cost of the network\n",
    "            c = sess.run(cost, feed_dict={originalFeatures : featuresTrain,labels : labelsTrain})\n",
    "            print(\"Epoch:\", '%04d' % (epoch+1), \"cost=\", \"{:.9f}\".format(c))\n",
    "            \n",
    "    print(\"Optimization Finished!\")\n",
    "    print(\"Accuracy on Training Data: \", accuracy.eval({originalFeatures: featuresTrain, labels: labelsTrain})*100,\"%\")\n",
    "    print(\"Accuracy on Testing Data: \", \"{:.9f}\".format(accuracy.eval({originalFeatures: featuresTest, labels: labelsTest})*100),\"%\")\n",
    "    "
   ]
  },
  {
   "cell_type": "code",
   "execution_count": 11,
   "metadata": {},
   "outputs": [
    {
     "name": "stdout",
     "output_type": "stream",
     "text": [
      "TensorBoard 1.12.2 at http://noor:6006 (Press CTRL+C to quit)\n",
      "^C\n"
     ]
    }
   ],
   "source": [
    "!tensorboard --logdir=graph"
   ]
  },
  {
   "cell_type": "code",
   "execution_count": null,
   "metadata": {},
   "outputs": [],
   "source": []
  }
 ],
 "metadata": {
  "kernelspec": {
   "display_name": "Python 3",
   "language": "python",
   "name": "python3"
  },
  "language_info": {
   "codemirror_mode": {
    "name": "ipython",
    "version": 3
   },
   "file_extension": ".py",
   "mimetype": "text/x-python",
   "name": "python",
   "nbconvert_exporter": "python",
   "pygments_lexer": "ipython3",
   "version": "3.6.7"
  }
 },
 "nbformat": 4,
 "nbformat_minor": 2
}
